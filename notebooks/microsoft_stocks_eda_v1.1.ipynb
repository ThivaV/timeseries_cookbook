{
 "cells": [
  {
   "cell_type": "markdown",
   "metadata": {},
   "source": [
    "# Microsoft Stocks EDA"
   ]
  },
  {
   "cell_type": "code",
   "execution_count": 1,
   "metadata": {},
   "outputs": [],
   "source": [
    "import pandas as pd                         # type: ignore\n",
    "import pandas_datareader.data as web        # type: ignore\n",
    "import matplotlib.pyplot as plt             # type: ignore\n",
    "%matplotlib inline\n",
    "\n",
    "from datetime import datetime as dt"
   ]
  },
  {
   "cell_type": "markdown",
   "metadata": {},
   "source": [
    "## load data"
   ]
  },
  {
   "cell_type": "code",
   "execution_count": 2,
   "metadata": {},
   "outputs": [
    {
     "data": {
      "text/plain": [
       "(1257, Index(['Open', 'High', 'Low', 'Close', 'Volume'], dtype='object'))"
      ]
     },
     "execution_count": 2,
     "metadata": {},
     "output_type": "execute_result"
    }
   ],
   "source": [
    "df_ms = web.DataReader('MSFT', 'stooq')\n",
    "len(df_ms), df_ms.columns"
   ]
  },
  {
   "cell_type": "code",
   "execution_count": 3,
   "metadata": {},
   "outputs": [
    {
     "data": {
      "text/html": [
       "<div>\n",
       "<style scoped>\n",
       "    .dataframe tbody tr th:only-of-type {\n",
       "        vertical-align: middle;\n",
       "    }\n",
       "\n",
       "    .dataframe tbody tr th {\n",
       "        vertical-align: top;\n",
       "    }\n",
       "\n",
       "    .dataframe thead th {\n",
       "        text-align: right;\n",
       "    }\n",
       "</style>\n",
       "<table border=\"1\" class=\"dataframe\">\n",
       "  <thead>\n",
       "    <tr style=\"text-align: right;\">\n",
       "      <th></th>\n",
       "      <th>Open</th>\n",
       "      <th>High</th>\n",
       "      <th>Low</th>\n",
       "      <th>Close</th>\n",
       "      <th>Volume</th>\n",
       "    </tr>\n",
       "    <tr>\n",
       "      <th>Date</th>\n",
       "      <th></th>\n",
       "      <th></th>\n",
       "      <th></th>\n",
       "      <th></th>\n",
       "      <th></th>\n",
       "    </tr>\n",
       "  </thead>\n",
       "  <tbody>\n",
       "    <tr>\n",
       "      <th>2024-07-26</th>\n",
       "      <td>418.200</td>\n",
       "      <td>428.915</td>\n",
       "      <td>417.2700</td>\n",
       "      <td>425.27</td>\n",
       "      <td>23583839.0</td>\n",
       "    </tr>\n",
       "    <tr>\n",
       "      <th>2024-07-25</th>\n",
       "      <td>428.800</td>\n",
       "      <td>429.800</td>\n",
       "      <td>417.5100</td>\n",
       "      <td>418.40</td>\n",
       "      <td>29943795.0</td>\n",
       "    </tr>\n",
       "    <tr>\n",
       "      <th>2024-07-24</th>\n",
       "      <td>440.450</td>\n",
       "      <td>441.480</td>\n",
       "      <td>427.5850</td>\n",
       "      <td>428.90</td>\n",
       "      <td>26805800.0</td>\n",
       "    </tr>\n",
       "    <tr>\n",
       "      <th>2024-07-23</th>\n",
       "      <td>443.895</td>\n",
       "      <td>448.390</td>\n",
       "      <td>443.1000</td>\n",
       "      <td>444.85</td>\n",
       "      <td>13107050.0</td>\n",
       "    </tr>\n",
       "    <tr>\n",
       "      <th>2024-07-22</th>\n",
       "      <td>441.790</td>\n",
       "      <td>444.600</td>\n",
       "      <td>438.9125</td>\n",
       "      <td>442.94</td>\n",
       "      <td>15808755.0</td>\n",
       "    </tr>\n",
       "  </tbody>\n",
       "</table>\n",
       "</div>"
      ],
      "text/plain": [
       "               Open     High       Low   Close      Volume\n",
       "Date                                                      \n",
       "2024-07-26  418.200  428.915  417.2700  425.27  23583839.0\n",
       "2024-07-25  428.800  429.800  417.5100  418.40  29943795.0\n",
       "2024-07-24  440.450  441.480  427.5850  428.90  26805800.0\n",
       "2024-07-23  443.895  448.390  443.1000  444.85  13107050.0\n",
       "2024-07-22  441.790  444.600  438.9125  442.94  15808755.0"
      ]
     },
     "execution_count": 3,
     "metadata": {},
     "output_type": "execute_result"
    }
   ],
   "source": [
    "df_ms.head()"
   ]
  },
  {
   "cell_type": "code",
   "execution_count": 4,
   "metadata": {},
   "outputs": [
    {
     "data": {
      "text/plain": [
       "pandas.core.frame.DataFrame"
      ]
     },
     "execution_count": 4,
     "metadata": {},
     "output_type": "execute_result"
    }
   ],
   "source": [
    "type(df_ms)"
   ]
  }
 ],
 "metadata": {
  "kernelspec": {
   "display_name": "Python 3",
   "language": "python",
   "name": "python3"
  },
  "language_info": {
   "codemirror_mode": {
    "name": "ipython",
    "version": 3
   },
   "file_extension": ".py",
   "mimetype": "text/x-python",
   "name": "python",
   "nbconvert_exporter": "python",
   "pygments_lexer": "ipython3",
   "version": "3.9.0"
  }
 },
 "nbformat": 4,
 "nbformat_minor": 2
}
